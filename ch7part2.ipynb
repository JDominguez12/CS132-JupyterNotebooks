{
  "cells": [
    {
      "cell_type": "markdown",
      "metadata": {
        "id": "6vduGYWilL52"
      },
      "source": [
        "<style>\n",
        "\th1 {\n",
        "\t--\tbackground-color: grey;\n",
        "\t\tcolor: yellow\n",
        "\t\tborder: 3px solid grey\n",
        "\n",
        "\t}\n",
        "\tp {\n",
        "\t\tbackground-color: grey;\n",
        "\t\tcolor: white\n",
        "\t\tborder: 3px solid grey\n",
        "\n",
        "\t}\n",
        "</style>\n",
        "<h1> Chapter 7 List: Part 2</h1>"
      ]
    },
    {
      "cell_type": "markdown",
      "metadata": {
        "id": "bEqq7B_WlL54"
      },
      "source": [
        "<p style=\"margin-left:40px\"> 7.6 zip() </p>\n",
        "\n",
        "<p style=\"margin-left:40px\"> 7.7 map()</p>\n",
        "\n",
        "<p style=\"margin-left:40px\"> 7.8 filter()</p>\n",
        "\n",
        "<p style=\"margin-left:40px\"> 7.9 reduce()</p>\n",
        "\n",
        "<p style=\"margin-left:40px\"> 7.10 Programming Exercise </p>\n"
      ]
    },
    {
      "cell_type": "markdown",
      "metadata": {
        "id": "StrF5hoHlL54"
      },
      "source": [
        "***\n",
        "\n",
        "## <p style=\"background-color: grey; color: white \"> ◼️  List </p>\n",
        "# <p style=\"font-family: Arial; font-size:1.4em;color:red;\"> 6. zip() </p>\n",
        "![zip](https://github.com/JDominguez12/CS132-JupyterNotebooks/blob/main/png/zip.png?raw=1)"
      ]
    },
    {
      "cell_type": "markdown",
      "metadata": {
        "id": "e-1QQSkVlL54"
      },
      "source": [
        "<style>\n",
        "\th3{\n",
        "\t\tbackground-color: grey\n",
        "\t\tcolor: white\n",
        "\t}\n",
        "</style>\n",
        "\n",
        "<h1> Understanding the zip() </h1>\n",
        "\n",
        "- Run all the following code cells and check out the result of code segments"
      ]
    },
    {
      "cell_type": "markdown",
      "metadata": {
        "id": "m0S2bTPDlL54"
      },
      "source": [
        "#### <p style=\"font-family: Arial; font-size:1.4em; background-color: yellow; color:black;\"> Problem #6.1 </p>\n",
        "\n",
        "#### Run all the cells and figure out the Mutal Data Type"
      ]
    },
    {
      "cell_type": "code",
      "source": [
        "l1 = [1,2,3]\n",
        "l2 = [4,5,6]\n",
        "l3 = [7,8,9]\n",
        "zipobj = list(zip(l1,l2,l3))\n",
        "for v in zipobj:\n",
        "  print(list(v))\n",
        "zipobj = [list(v) for v in zipobj]\n",
        "zipobj"
      ],
      "metadata": {
        "colab": {
          "base_uri": "https://localhost:8080/"
        },
        "id": "gcfN5jlbptEb",
        "outputId": "93c41873-5ad4-4ce9-e6d8-0554d3c6985f"
      },
      "execution_count": null,
      "outputs": [
        {
          "output_type": "stream",
          "name": "stdout",
          "text": [
            "[1, 4, 7]\n",
            "[2, 5, 8]\n",
            "[3, 6, 9]\n"
          ]
        },
        {
          "output_type": "execute_result",
          "data": {
            "text/plain": [
              "[[1, 4, 7], [2, 5, 8], [3, 6, 9]]"
            ]
          },
          "metadata": {},
          "execution_count": 23
        }
      ]
    },
    {
      "cell_type": "code",
      "source": [
        "l1 = [[1,2,3], [4,5,6], [7,8,9]]\n",
        "print(*l1) #unpacked argument\n",
        "for v in zip(*l1):\n",
        "  print(v)"
      ],
      "metadata": {
        "colab": {
          "base_uri": "https://localhost:8080/"
        },
        "id": "wftwbHF4oSB3",
        "outputId": "b0cfb84e-42b0-42cf-de02-27b69013e2af"
      },
      "execution_count": null,
      "outputs": [
        {
          "output_type": "stream",
          "name": "stdout",
          "text": [
            "[1, 2, 3] [4, 5, 6] [7, 8, 9]\n",
            "(1, 4, 7)\n",
            "(2, 5, 8)\n",
            "(3, 6, 9)\n"
          ]
        }
      ]
    },
    {
      "cell_type": "code",
      "execution_count": null,
      "metadata": {
        "colab": {
          "base_uri": "https://localhost:8080/"
        },
        "id": "Z1swrtVblL54",
        "outputId": "80835f86-d65c-4fd0-d42d-271b33603fde"
      },
      "outputs": [
        {
          "output_type": "stream",
          "name": "stdout",
          "text": [
            "[(1, 4, 7), (2, 5, 8), (3, 6, 9)]\n"
          ]
        }
      ],
      "source": [
        "n1 = [1, 2, 3]\n",
        "n2 = [4, 5, 6]\n",
        "n3 = [7, 8, 9]\n",
        "\n",
        "print(list(zip(n1, n2, n3)))"
      ]
    },
    {
      "cell_type": "code",
      "execution_count": null,
      "metadata": {
        "colab": {
          "base_uri": "https://localhost:8080/"
        },
        "id": "_TT-UChDlL55",
        "outputId": "bcad47a5-784c-47b8-e40e-113ab2e7b801"
      },
      "outputs": [
        {
          "output_type": "stream",
          "name": "stdout",
          "text": [
            "[1, 2, 3] [4, 5, 6] [7, 8, 9]\n"
          ]
        }
      ],
      "source": [
        "numbers = [ [1, 2, 3], [4, 5, 6], [7, 8, 9]]\n",
        "print (*numbers)"
      ]
    },
    {
      "cell_type": "code",
      "execution_count": null,
      "metadata": {
        "colab": {
          "base_uri": "https://localhost:8080/"
        },
        "id": "ty5nUxi8lL55",
        "outputId": "6a7eb012-015f-44c7-b199-5382ba6eba8e"
      },
      "outputs": [
        {
          "output_type": "execute_result",
          "data": {
            "text/plain": [
              "[(1, 4, 7), (2, 5, 8), (3, 6, 9)]"
            ]
          },
          "metadata": {},
          "execution_count": 78
        }
      ],
      "source": [
        "zip_object = zip([1,2,3], [4,5,6], [7,8,9])\n",
        "new_list = list(zip_object)\n",
        "new_list\n"
      ]
    },
    {
      "cell_type": "code",
      "execution_count": null,
      "metadata": {
        "colab": {
          "base_uri": "https://localhost:8080/"
        },
        "id": "xU0IClmglL56",
        "outputId": "a7fbcfdc-199a-449f-ac63-7fbfa37f6d70"
      },
      "outputs": [
        {
          "output_type": "stream",
          "name": "stdout",
          "text": [
            "[(1, 4, 7), (2, 5, 8), (3, 6, 9)]\n"
          ]
        }
      ],
      "source": [
        "numbers = [ [1, 2, 3], [4, 5, 6], [7, 8, 9]]\n",
        "\n",
        "new_numbers = list(zip(*numbers))\n",
        "print(new_numbers)\n",
        "\n"
      ]
    },
    {
      "cell_type": "markdown",
      "metadata": {
        "id": "D2wZXQdalL56"
      },
      "source": [
        "#### <p style=\"font-family: Arial; font-size:1.4em; background-color: yellow; color:black;\"> Problem #6.2 </p>\n",
        "\n",
        "#### There are students records in the Students list.\n",
        "#### Each student record is a list that contains the student name, age, and [math score, science score, english score].\n",
        "```\n",
        "students = [\n",
        "    [\"John\", 23, [80, 90, 85]],\n",
        "    [\"Jane\", 22, [85, 95, 90]] ]\n",
        "```\n",
        "#### Make a function that returns the list of scores by subject, for example,\n",
        "```\n",
        "scores_by_subject = [\n",
        "    [math_score1, math_score2, math_score3],\n",
        "    [science_score1, science_score2, science_score3],\n",
        "    [english_score1, english_score2, english_score3]\n",
        "]\n",
        "for example,\n",
        "    [[80, 85], [90, 95], [85, 90]]\n",
        "```\n",
        "#### return value: the list of list of scores by subject\n"
      ]
    },
    {
      "cell_type": "code",
      "execution_count": null,
      "metadata": {
        "colab": {
          "base_uri": "https://localhost:8080/"
        },
        "id": "TWqr4RYVlL56",
        "outputId": "22acc601-6a87-4a31-d96e-2de1be5f324e"
      },
      "outputs": [
        {
          "output_type": "stream",
          "name": "stdout",
          "text": [
            "[(80, 85, 75, 90, 80, 70, 60), (90, 95, 80, 95, 85, 75, 65), (85, 90, 85, 90, 80, 70, 60)]\n"
          ]
        }
      ],
      "source": [
        "def get_scores_by_subject(students):\n",
        "    list_of_scores = []\n",
        "    for s in students:\n",
        "        list_of_scores.append(s[2])\n",
        "    scores_by_subject = list(zip(*list_of_scores))\n",
        "    return scores_by_subject\n",
        "\n",
        "\n",
        "\n",
        "students = [\n",
        "    [\"John\", 23, [80, 90, 85]],\n",
        "    [\"Jane\", 22, [85, 95, 90]],\n",
        "    [\"Doe\", 24, [75, 80, 85]],\n",
        "    [\"Kim\", 25, [90, 95, 90]],\n",
        "    [\"Jill\", 26, [80, 85, 80]],\n",
        "    [\"Elizabeth\", 27, [70, 75, 70]],\n",
        "    [\"Kyle\", 28, [60, 65, 60]]\n",
        "]\n",
        "\n",
        "scores_by_subject = get_scores_by_subject(students)\n",
        "print(scores_by_subject)\n"
      ]
    },
    {
      "cell_type": "code",
      "source": [
        "students = [\n",
        "    [\"John\", 23, [80, 90, 85]],\n",
        "    [\"Jane\", 22, [85, 95, 90]],\n",
        "    [\"Doe\", 24, [75, 80, 85]],\n",
        "    [\"Kim\", 25, [90, 95, 90]],\n",
        "    [\"Jill\", 26, [80, 85, 80]],\n",
        "    [\"Elizabeth\", 27, [70, 75, 70]],\n",
        "    [\"Kyle\", 28, [60, 65, 60]]\n",
        "]\n",
        "list(zip(*[v[2] for v in students]))\n",
        "# scorelist = []\n",
        "# for s in students:\n",
        "#     scorelist.append(s[2])\n",
        "# zip(*scorelist)\n"
      ],
      "metadata": {
        "colab": {
          "base_uri": "https://localhost:8080/"
        },
        "id": "ce5_c8SgsiWu",
        "outputId": "3b183be6-f903-4a8a-fdde-653e32f4a439"
      },
      "execution_count": null,
      "outputs": [
        {
          "output_type": "execute_result",
          "data": {
            "text/plain": [
              "[(80, 85, 75, 90, 80, 70, 60),\n",
              " (90, 95, 80, 95, 85, 75, 65),\n",
              " (85, 90, 85, 90, 80, 70, 60)]"
            ]
          },
          "metadata": {},
          "execution_count": 51
        }
      ]
    },
    {
      "cell_type": "markdown",
      "metadata": {
        "id": "fGk4UAFylL56"
      },
      "source": [
        "#### <p style=\"font-family: Arial; font-size:1.4em; background-color: yellow; color:black;\"> Problem #6.3 </p>\n",
        "\n",
        "### Use zip() and list() to make the function that reconstruct the list of list which is the transpose of the list of list of integer values.\n",
        "#### Make the function that reconstruct the list of list which is the transpose of the list of list of integer values.\n",
        "#### For example,\n",
        "```\n",
        "input: [[1, 2, 3], [4, 5, 6], [7, 8, 9]]\n",
        "output: [[1, 4, 7], [2, 5, 8], [3, 6, 9]]\n",
        "\n",
        "def transpose(matrix):\n",
        "    ########################\n",
        "    # Write your code here #\n",
        "    ########################\n",
        "    return new_list\n",
        "\n",
        "numbers = [[1, 2, 3], [4, 5, 6], [7, 8, 9]]\n",
        "new_numbers = transpose(numbers)\n",
        "print(new_numbers)\n",
        "````\n",
        "\n"
      ]
    },
    {
      "cell_type": "code",
      "execution_count": null,
      "metadata": {
        "colab": {
          "base_uri": "https://localhost:8080/"
        },
        "id": "PRwgnKc6lL56",
        "outputId": "df3d0ca1-14e9-4798-a67e-1cadd2e5605e"
      },
      "outputs": [
        {
          "output_type": "stream",
          "name": "stdout",
          "text": [
            "[(1, 4, 7), (2, 5, 8), (3, 6, 9)]\n"
          ]
        }
      ],
      "source": [
        "# Hint: Use the zip(*)\n",
        "num = [(1,2,3), (4,5,6), (7,8,9)]\n",
        "new_num = list(zip(*num))\n",
        "print(new_num)"
      ]
    },
    {
      "cell_type": "code",
      "execution_count": null,
      "metadata": {
        "colab": {
          "base_uri": "https://localhost:8080/"
        },
        "id": "WZSzfQ5mlL56",
        "outputId": "9e494bd1-2146-479a-d7cc-ac331adffacf"
      },
      "outputs": [
        {
          "output_type": "stream",
          "name": "stdout",
          "text": [
            "[(1, 4, 7), (2, 5, 8), (3, 6, 9)]\n"
          ]
        }
      ],
      "source": [
        "def transpose(matrix):\n",
        "    new_list = list(zip(*matrix))\n",
        "    return new_list\n",
        "\n",
        "\n",
        "numbers = [[1, 2, 3], [4, 5, 6], [7, 8, 9]]\n",
        "new_numbers = transpose(numbers)\n",
        "print(new_numbers)\n"
      ]
    },
    {
      "cell_type": "markdown",
      "metadata": {
        "id": "ya_5oKgBlL56"
      },
      "source": [
        "#### <p style=\"font-family: Arial; font-size:1.4em; background-color: yellow; color:black;\"> Problem #6.4 zip(*listvalue)</p>\n",
        "\n",
        "#### Write a function that takes a list of strings as input and returns a new list where each element is formed by combining the characters at the same position from all input strings. If a string is shorter than others, it should be stopped at the end of the shortest string\n",
        "\n",
        "#### Use the zip(*)\n",
        "```\n",
        "Input:\n",
        "A list of strings, where each string can have a different length.\n",
        "Output:\n",
        "A list of strings, where each string is formed by combining characters from the input strings at the same position.\n",
        "---\n",
        "Example:\n",
        "list of string values list_str: ['Python', 'C++', 'Java']\n",
        "The return value should be ['PCJ', 'y+a', 't+v'] because the shortest string is 'C++'\n",
        "\n",
        "````\n",
        "\n"
      ]
    },
    {
      "cell_type": "code",
      "execution_count": null,
      "metadata": {
        "colab": {
          "base_uri": "https://localhost:8080/"
        },
        "id": "BpNQWotXlL57",
        "outputId": "aec5a07b-fdc0-458e-e0b0-3873ecc07420"
      },
      "outputs": [
        {
          "output_type": "stream",
          "name": "stdout",
          "text": [
            "[('P', 'C', 'J'), ('y', '+', 'a'), ('t', '+', 'v')]\n"
          ]
        }
      ],
      "source": [
        "# Hint: Use the zip(*)\n",
        "str_list = ['Python', 'C++', 'Java']\n",
        "new_list = zip(*str_list)\n",
        "print(list(new_list))"
      ]
    },
    {
      "cell_type": "code",
      "execution_count": null,
      "metadata": {
        "colab": {
          "base_uri": "https://localhost:8080/"
        },
        "id": "v5WkAG--lL57",
        "outputId": "4a5583b4-5717-4667-f802-602ca09012cc"
      },
      "outputs": [
        {
          "output_type": "stream",
          "name": "stdout",
          "text": [
            "['PCJ', 'y+a', 't+v']\n"
          ]
        }
      ],
      "source": [
        "def combine_characters(list_str):\n",
        "    new_list = list(zip(*list_str))\n",
        "    new_list = [''.join(v) for v in new_list]\n",
        "\n",
        "    return new_list\n",
        "\n",
        "\n",
        "list_str = ['Python', 'C++', 'Java']\n",
        "new_list = combine_characters(list_str)\n",
        "print(new_list)\n"
      ]
    },
    {
      "cell_type": "markdown",
      "metadata": {
        "id": "81_iCVQtlL57"
      },
      "source": [
        "<mark> Save your file by pressing \"Ctrl+S\" or \"git commit -am \"your message\"\" </mark>"
      ]
    },
    {
      "cell_type": "markdown",
      "metadata": {
        "id": "iDcZPZp6lL57"
      },
      "source": [
        "***\n",
        "\n",
        "## <p style=\"background-color: grey; color: white \"> ◼️  List </p>\n",
        "# <p style=\"font-family: Arial; font-size:1.4em;color:red;\"> 7. map() </p>\n",
        "![map](https://github.com/JDominguez12/CS132-JupyterNotebooks/blob/main/png/Map.png?raw=1)"
      ]
    },
    {
      "cell_type": "markdown",
      "metadata": {
        "id": "fzN9eQFXlL57"
      },
      "source": [
        "## Basic Syntax\n",
        "```\n",
        "map(function, iterable)\n",
        "```\n",
        "\n",
        "The map() function in Python applies a given function to every item of an iterable (like a list) and returns a map object (which is an iterator). It is useful for transforming data using a function without the need for explicit loops."
      ]
    },
    {
      "cell_type": "code",
      "source": [
        "l1 = [1,2,3,4,5]\n",
        "list(map(lambda x:x**2, l1))\n"
      ],
      "metadata": {
        "colab": {
          "base_uri": "https://localhost:8080/"
        },
        "id": "4a6Bz3RcvdKl",
        "outputId": "9977b910-361a-4d3d-fe9e-68a5f0dfd01b"
      },
      "execution_count": null,
      "outputs": [
        {
          "output_type": "execute_result",
          "data": {
            "text/plain": [
              "[1, 4, 9, 16, 25]"
            ]
          },
          "metadata": {},
          "execution_count": 90
        }
      ]
    },
    {
      "cell_type": "markdown",
      "metadata": {
        "id": "v2K7d5BilL57"
      },
      "source": [
        "## Example 1: Square each element in the list\n",
        "\n",
        "```\n",
        "def square(x):\n",
        "    return x ** 2\n",
        "\n",
        "numbers = [1, 2, 3, 4, 5]\n",
        "squared_numbers = list(map(square, numbers))\n",
        "print(squared_numbers)\n",
        "```\n"
      ]
    },
    {
      "cell_type": "code",
      "execution_count": null,
      "metadata": {
        "colab": {
          "base_uri": "https://localhost:8080/"
        },
        "id": "YurKZmlNlL57",
        "outputId": "1fe99bf0-c4f7-4493-895f-496ffd4f4aaa"
      },
      "outputs": [
        {
          "output_type": "stream",
          "name": "stdout",
          "text": [
            "[1, 4, 9, 16, 25]\n"
          ]
        }
      ],
      "source": [
        "def square(x):\n",
        "    return x ** 2\n",
        "\n",
        "numbers = [1, 2, 3, 4, 5]\n",
        "squared_numbers = list(map(square, numbers))\n",
        "print(squared_numbers)"
      ]
    },
    {
      "cell_type": "markdown",
      "metadata": {
        "id": "8q908YWolL58"
      },
      "source": [
        "## Example 2: Convert a list of strings to Uppercase\n",
        "\n",
        "```\n",
        "strval = ['python', 'c++', 'java']\n",
        "new_list = list(map(str.upper, strval))\n",
        "print(new_list)\n",
        "```\n",
        "\n",
        "## Example 3: Convert a list of integers to a list of strings\n",
        "\n",
        "```\n",
        "numbers = [1, 2, 3, 4, 5]\n",
        "new_list = list(map(str, numbers))\n",
        "print(new_list)\n",
        "```\n"
      ]
    },
    {
      "cell_type": "code",
      "execution_count": null,
      "metadata": {
        "colab": {
          "base_uri": "https://localhost:8080/"
        },
        "id": "FK7ReS-ulL58",
        "outputId": "0febebb5-5871-4189-c986-d899d316bffd"
      },
      "outputs": [
        {
          "output_type": "stream",
          "name": "stdout",
          "text": [
            "<class 'int'>\n",
            "<class 'str'>\n",
            "['1', '2', '3', '4', '5']\n"
          ]
        }
      ],
      "source": [
        "numbers = [1, 2, 3, 4, 5]\n",
        "new_list = list(map(str, numbers))\n",
        "print(type(numbers[0]))\n",
        "print(type(new_list[0]))\n",
        "print(new_list)\n"
      ]
    },
    {
      "cell_type": "markdown",
      "metadata": {
        "id": "jnYW1g5PlL58"
      },
      "source": [
        "<p style=\"font-family: Arial; font-size:1.4em; background-color: yellow; color:black;\"> Problem 7.1  map()</p>"
      ]
    },
    {
      "cell_type": "markdown",
      "metadata": {
        "id": "IjchXQM9lL58"
      },
      "source": [
        "#### Find the Length of Each String in a List\n",
        "#### Definition: Use the map() function to create a list of the lengths of each string in a list of words.\n",
        "\n",
        "#### Example:\n",
        "```\n",
        "words = ['apple', 'banana', 'cherry']\n",
        "# Your map() usage should return [5, 6, 6]\n",
        "```"
      ]
    },
    {
      "cell_type": "code",
      "execution_count": null,
      "metadata": {
        "colab": {
          "base_uri": "https://localhost:8080/"
        },
        "id": "INzskdCvlL58",
        "outputId": "b5bce372-8f8a-497b-e26c-c7536224d675"
      },
      "outputs": [
        {
          "output_type": "stream",
          "name": "stdout",
          "text": [
            "[5, 6, 6]\n"
          ]
        }
      ],
      "source": [
        "def find_length(words):\n",
        "    new_list = list(map(len, words))\n",
        "    return new_list\n",
        "\n",
        "words = ['apple', 'banana', 'cherry']\n",
        "new_list = find_length(words)\n",
        "print(new_list)"
      ]
    },
    {
      "cell_type": "markdown",
      "metadata": {
        "id": "g9-zx81clL58"
      },
      "source": [
        "<p style=\"font-family: Arial; font-size:1.4em; background-color: yellow; color:black;\"> Problem 7.2  map()</p>"
      ]
    },
    {
      "cell_type": "markdown",
      "metadata": {
        "id": "Jg_cvsovlL58"
      },
      "source": [
        "#### Multiply Corresponding Elements in Two Lists\n",
        "#### Definition: Use the map() function to multiply corresponding elements in two lists.\n",
        "\n",
        "#### Example:\n",
        "```\n",
        "list1 = [1, 2, 3]\n",
        "list2 = [4, 5, 6]\n",
        "# Your functionshould return [4, 10, 18]\n",
        "\n",
        "def multiply_elements(list1, list2):\n",
        "    #################################\n",
        "    # Write your code here #\n",
        "    #################################\n",
        "    return new_list\n",
        "```"
      ]
    },
    {
      "cell_type": "code",
      "execution_count": null,
      "metadata": {
        "id": "28-NAnyUlL58"
      },
      "outputs": [],
      "source": [
        "# Hint: You can pass multiple iterables to map() by using a lambda function that takes two arguments.\n",
        "list1 = [1, 2, 3]\n",
        "list2 = [4, 5, 6]\n",
        "new_list = list(map(lambda x,y: print(x,y), list1, list2))\n",
        "print(new_list)\n"
      ]
    },
    {
      "cell_type": "code",
      "execution_count": null,
      "metadata": {
        "colab": {
          "base_uri": "https://localhost:8080/"
        },
        "id": "jh_w0yTElL58",
        "outputId": "53564513-b91a-4779-d3dd-ae04885661e2"
      },
      "outputs": [
        {
          "output_type": "stream",
          "name": "stdout",
          "text": [
            "[4, 10, 18]\n"
          ]
        }
      ],
      "source": [
        "def multiply_elements(list1, list2):\n",
        "    new_list = list(map(lambda x,y: x*y, list1, list2))\n",
        "    return new_list\n",
        "\n",
        "list1 = [1, 2, 3]\n",
        "list2 = [4, 5, 6]\n",
        "new_list = multiply_elements(list1, list2)\n",
        "print(new_list)\n",
        "# Return value should be [4, 10, 18]"
      ]
    },
    {
      "cell_type": "markdown",
      "metadata": {
        "id": "_I5_io5mlL58"
      },
      "source": [
        "<p style=\"font-family: Arial; font-size:1.4em; background-color: yellow; color:black;\"> Problem 7.3  map()</p>"
      ]
    },
    {
      "cell_type": "markdown",
      "metadata": {
        "id": "ObWy4bfKlL58"
      },
      "source": [
        "#### Round Each Number in a List to Two Decimal Places\n",
        "#### Definition: Write a program that rounds each floating-point number in a list to two decimal places using map().\n",
        "\n",
        "#### Example:\n",
        "```\n",
        "numbers = [3.14159, 2.71828, 1.61803, 0.57721]\n",
        "# Your function should return [3.14, 2.72, 1.62, 0.58]\n",
        "\n",
        "def round_numbers(numbers):\n",
        "    #################################\n",
        "    # Write your code here #\n",
        "    #################################\n",
        "```"
      ]
    },
    {
      "cell_type": "code",
      "execution_count": null,
      "metadata": {
        "colab": {
          "base_uri": "https://localhost:8080/"
        },
        "id": "d4B0oAAYlL59",
        "outputId": "802f3f60-1596-4dfc-d699-c2c8597badab"
      },
      "outputs": [
        {
          "output_type": "execute_result",
          "data": {
            "text/plain": [
              "1.23"
            ]
          },
          "metadata": {},
          "execution_count": 105
        }
      ],
      "source": [
        "n = 1.23456\n",
        "strval = f'{n:.2f}'\n",
        "newval = float(strval)\n",
        "newval"
      ]
    },
    {
      "cell_type": "code",
      "execution_count": null,
      "metadata": {
        "colab": {
          "base_uri": "https://localhost:8080/"
        },
        "id": "rc-9fKhFlL59",
        "outputId": "1cb25882-bdf8-4bb1-c2c6-0a96b4ef80aa"
      },
      "outputs": [
        {
          "output_type": "stream",
          "name": "stdout",
          "text": [
            "[3.14, 2.72, 1.62, 0.58]\n"
          ]
        }
      ],
      "source": [
        "def round_numbers(numbers):\n",
        "    floats = list(map(lambda x: f'{x:.2f}', numbers))\n",
        "    numbers = list(map(float, floats))\n",
        "    return numbers\n",
        "\n",
        "\n",
        "numbers = [3.14159, 2.71828, 1.61803, 0.57721]\n",
        "numbers = round_numbers(numbers)\n",
        "print(numbers)\n",
        "# Return value should be [3.14, 2.72, 1.62, 0.58]"
      ]
    },
    {
      "cell_type": "markdown",
      "metadata": {
        "id": "ROURaP5qlL59"
      },
      "source": [
        "***\n",
        "\n",
        "## <p style=\"background-color: grey; color: white \"> ◼️  List </p>\n",
        "# <p style=\"font-family: Arial; font-size:1.4em;color:red;\"> 8. filter() </p>\n",
        "![filter](https://github.com/JDominguez12/CS132-JupyterNotebooks/blob/main/png/Filter.png?raw=1)\n"
      ]
    },
    {
      "cell_type": "markdown",
      "metadata": {
        "id": "PblW_0amlL59"
      },
      "source": [
        "#### The filter() function in Python is used to filter elements from an iterable (like a list) based on a condition. It applies a given function to each item and includes only the items for which the function returns True.\n",
        "\n",
        "#### Syntax:\n",
        "```\n",
        "filter(function, iterable)\n",
        "```\n",
        "\n",
        "#### function: A function that defines the condition or test for filtering the elements.\n",
        "#### iterable: An iterable (e.g., a list) from which you want to filter elements.\n",
        "#### Like map(), the filter() function returns an iterator, so it’s often converted into a list using list().\n",
        "\n",
        "#### Example 1: Filter out even numbers from a list\n",
        "```\n",
        "def is_even(n):\n",
        "    return n % 2 == 0\n",
        "\n",
        "numbers = [1, 2, 3, 4, 5, 6, 7, 8, 9, 10]\n",
        "filtered_numbers = list(filter(is_even, numbers))\n",
        "print(filtered_numbers)\n",
        "```"
      ]
    },
    {
      "cell_type": "markdown",
      "metadata": {
        "id": "Tsg9EZDXlL59"
      },
      "source": [
        "<p style=\"font-family: Arial; font-size:1.4em; background-color: yellow; color:black;\"> Problem 8.1  filter()</p>"
      ]
    },
    {
      "cell_type": "markdown",
      "metadata": {
        "id": "Qugk_OCllL59"
      },
      "source": [
        "#### Filter Out Words Starting with a Vowel\n",
        "#### Definition: Write a program that filters out all words starting with a vowel (a, e, i, o, u) using filter().\n",
        "```\n",
        "Example:\n",
        "\n",
        "words = ['apple', 'banana', 'orange', 'grape', 'umbrella']\n",
        "# Your filter() usage should return ['banana', 'grape']\n",
        "Hint: Use a lambda function to check the first letter of each word.\n",
        "\n",
        "def filter_words(words):\n",
        "    #################################\n",
        "    # Write your code here #\n",
        "    #################################\n",
        "    return new_list\n",
        "\n",
        "words = ['apple', 'banana', 'orange', 'grape', 'umbrella']\n",
        "# Complete the code\n",
        "# Return value should be ['banana', 'grape']\n",
        "```"
      ]
    },
    {
      "cell_type": "code",
      "execution_count": null,
      "metadata": {
        "colab": {
          "base_uri": "https://localhost:8080/"
        },
        "id": "Wj0hpKXWlL6C",
        "outputId": "357adf05-00bc-4e47-993f-9a6d62bbc434"
      },
      "outputs": [
        {
          "output_type": "stream",
          "name": "stdout",
          "text": [
            "['apple', 'orange', 'umbrella']\n"
          ]
        }
      ],
      "source": [
        "def filter_words(words):\n",
        "  new_words = list(filter(lambda x: x[0] in ['a', 'e', 'i', 'o', 'u'], words))\n",
        "  return new_words\n",
        "words = ['apple', 'banana', 'orange', 'grape', 'umbrella']\n",
        "\n",
        "new_words = filter_words(words)\n",
        "print(new_words)\n",
        "# Return value should be ['banana', 'grape']\n"
      ]
    },
    {
      "cell_type": "markdown",
      "metadata": {
        "id": "zB0ib_c7lL6C"
      },
      "source": [
        "<p style=\"font-family: Arial; font-size:1.4em; background-color: yellow; color:black;\"> Problem 8.2  filter() : Filter String values</p>"
      ]
    },
    {
      "cell_type": "markdown",
      "metadata": {
        "id": "EwJCoFX3lL6C"
      },
      "source": [
        "#### Problem 8: Filter Elements from a List of Tuples\n",
        "#### Definition: Given a list of tuples, filter out all tuples where the gap of two numbers is greater than 5\n",
        "\n",
        "```\n",
        "Example:\n",
        "\n",
        "tuples = [(1, 10), (4, 69), (20, 15), (7, 8)]\n",
        "# Your filter() usage should return [(20, 15), (7, 8)]\n",
        "\n",
        "def filter_tuples(tuples):\n",
        "    #################################\n",
        "    # Write your code here #\n",
        "    #################################\n",
        "    return new_list\n",
        "\n",
        "tuples = [(1, 3), (4, 6), (2, 5), (7, 8)]\n",
        "new_list = filter_tuples(tuples)\n",
        "print(new_list)\n",
        "```\n"
      ]
    },
    {
      "cell_type": "code",
      "execution_count": null,
      "metadata": {
        "id": "IhN8CFKjlL6C"
      },
      "outputs": [],
      "source": [
        "# Complete the code\n",
        "words = ['apple', 'banana', 'orange', 'grape', 'umbrella']\n",
        "\n",
        "\n",
        "# Return value should be ['banana', 'grape']\n"
      ]
    },
    {
      "cell_type": "markdown",
      "metadata": {
        "id": "OnMo2gBjlL6D"
      },
      "source": [
        "<p style=\"font-family: Arial; font-size:1.4em; background-color: yellow; color:black;\"> Problem 8.3  filter(): Prime Number</p>"
      ]
    },
    {
      "cell_type": "markdown",
      "metadata": {
        "id": "kJWyzIUGlL6D"
      },
      "source": [
        "#### Problem 8: Filter Elements from a List of inter values\n",
        "#### Definition: Write a program that filters out all prime numbers from a list of integers using filter().\n",
        "\n",
        "```\n",
        "Example:\n",
        "\n",
        "numbers = [1, 2, 3, 4, 5, 6, 7, 8, 9, 10]\n",
        "# Your filter() usage should return [2, 3, 5, 7]\n",
        "\n",
        "def filter_tuples(numbers):\n",
        "    #################################\n",
        "    # Write your code here #\n",
        "    #################################\n",
        "    return new_list\n",
        "\n",
        "numbers = [1, 2, 3, 4, 5, 6, 7, 8, 9, 10]\n",
        "new_list = filter_tuples(tuples)\n",
        "print(new_list)\n",
        "```\n"
      ]
    },
    {
      "cell_type": "code",
      "execution_count": null,
      "metadata": {
        "colab": {
          "base_uri": "https://localhost:8080/"
        },
        "id": "KtPF0QqxlL6D",
        "outputId": "00bc12dc-8b6c-4aae-9803-6d969503b450"
      },
      "outputs": [
        {
          "output_type": "stream",
          "name": "stdout",
          "text": [
            "[2, 3, 5, 7]\n"
          ]
        }
      ],
      "source": [
        "numbers = [1, 2, 3, 4, 5, 6, 7, 8, 9, 10]\n",
        "\n",
        "def is_prime(n):\n",
        "  return n > 1 and all(n % i for i in range(2, n))\n",
        "\n",
        "def filter_tuples(numbers):\n",
        "    new_list = list(filter(is_prime, numbers))\n",
        "    return new_list\n",
        "print(filter_tuples(numbers))\n",
        "\n",
        "# [x for x in numbers for i in range(2,x) if x%i != 0]\n",
        "# filter(lambda x: x > 1 and all(x % i for i in range(2, x)), numbers)\n",
        "\n",
        "\n",
        "# Return value should be [2, 3, 5, 7]"
      ]
    },
    {
      "cell_type": "markdown",
      "metadata": {
        "id": "7gvQdjKIlL6D"
      },
      "source": [
        "<p style=\"font-family: Arial; font-size:1.4em; background-color: yellow; color:black;\"> Problem 8.4  filter(): Great than the right element in the list</p>"
      ]
    },
    {
      "cell_type": "markdown",
      "metadata": {
        "id": "M0Jdsk8FlL6D"
      },
      "source": [
        "#### Problem 8.4 : Filter Elements from a List of inter values\n",
        "#### Definition: Write a program that filters out all elements that are greater than the right element in the list.(Exclude the last element)\n",
        "#### Use the filter() and zip() functions\n",
        "\n",
        "```\n",
        "Example:\n",
        "\n",
        "numbers = [10, 5, 6, 15, 20, 25, 45, 30, 55, 50]\n",
        "# Your filter() usage should return [10, 45, 55] becasue 10 > 5, 45 > 30, 55 > 50\n",
        "\n",
        "def filter_gtRight(numbers):\n",
        "    #################################\n",
        "    # Write your code here #\n",
        "    #################################\n",
        "    return new_list\n",
        "\n",
        "numbers = [10, 5, 6, 15, 20, 25, 45, 30, 55, 50]\n",
        "new_list = filter_gtRight(numbers)\n",
        "print(new_list)\n",
        "```\n"
      ]
    },
    {
      "cell_type": "code",
      "execution_count": null,
      "metadata": {
        "colab": {
          "base_uri": "https://localhost:8080/"
        },
        "id": "9ClJh1UylL6D",
        "outputId": "47f666a4-d133-4999-d086-fc7e233839b0"
      },
      "outputs": [
        {
          "output_type": "stream",
          "name": "stdout",
          "text": [
            "[10, 45, 55]\n"
          ]
        }
      ],
      "source": [
        "numbers = [10, 5, 6, 15, 20, 25, 45, 30, 55, 50]\n",
        "\n",
        "# Complete the code\n",
        "def filter_gtRight(numbers):\n",
        "    tuple_list = list(zip(numbers, numbers[1:]))\n",
        "    new_list = [x[0] for x in list(filter(lambda x: x[0] > x[1], tuple_list))]\n",
        "    return new_list\n",
        "\n",
        "numbers = [10, 5, 6, 15, 20, 25, 45, 30, 55, 50]\n",
        "new_list = filter_gtRight(numbers)\n",
        "print(new_list)\n",
        "# Return value should be [10, 45, 55]"
      ]
    },
    {
      "cell_type": "markdown",
      "metadata": {
        "id": "q-hU82sylL6D"
      },
      "source": [
        "***\n",
        "\n",
        "## <p style=\"background-color: grey; color: white \"> ◼️  List </p>\n",
        "# <p style=\"font-family: Arial; font-size:1.4em;color:red;\"> 9. Reduce() </p>\n",
        "\n",
        "![reduce](https://github.com/JDominguez12/CS132-JupyterNotebooks/blob/main/png/Reduce.png?raw=1)\n"
      ]
    },
    {
      "cell_type": "markdown",
      "metadata": {
        "id": "P9iU4xwKlL6D"
      },
      "source": [
        "#### The reduce() function in Python is used to apply a function cumulatively to the items of an iterable, from left to right, so as to reduce the iterable to a single output value. It is useful for performing a cumulative operation on a list of elements.\n",
        "\n",
        "#### Syntax:\n",
        "```\n",
        "reduce(function, iterable)\n",
        "```\n",
        "\n",
        "#### function: A function that takes two arguments and returns a single value.\n",
        "#### iterable: An iterable (e.g., a list) on which the cumulative operation is performed.\n",
        "\n",
        "<mark>\n",
        "To use reduce(), you need to import it from the functools module.\n",
        "</mark>\n",
        "\n",
        "```\n",
        "    from functools import reduce\n",
        "```"
      ]
    },
    {
      "cell_type": "markdown",
      "metadata": {
        "id": "TyyPoOmelL6D"
      },
      "source": [
        "![Get Sum of the list by using reduce()](https://github.com/JDominguez12/CS132-JupyterNotebooks/blob/main/png/Reduce2.png?raw=1)\n"
      ]
    },
    {
      "cell_type": "markdown",
      "source": [],
      "metadata": {
        "id": "07GcQo271NLd"
      }
    },
    {
      "cell_type": "code",
      "source": [
        "from functools import reduce\n",
        "numbers = [10, 5, 6, 15, 20, 25, 45, 30, 55, 50]\n",
        "\n",
        "total = reduce(lambda x, y: x + y, numbers)\n",
        "print(total)"
      ],
      "metadata": {
        "colab": {
          "base_uri": "https://localhost:8080/"
        },
        "id": "scUVG3K21rer",
        "outputId": "f9b4a1b0-7cef-4da3-b97e-72c2a755ffbf"
      },
      "execution_count": null,
      "outputs": [
        {
          "output_type": "stream",
          "name": "stdout",
          "text": [
            "261\n"
          ]
        }
      ]
    },
    {
      "cell_type": "code",
      "execution_count": null,
      "metadata": {
        "id": "UGGtlSXxlL6D",
        "outputId": "e8e4a3cf-369e-4a44-8401-c89e8256d275"
      },
      "outputs": [
        {
          "name": "stdout",
          "output_type": "stream",
          "text": [
            "15\n",
            "120\n"
          ]
        }
      ],
      "source": [
        "# Example 1: Sum of all elements in a list\n",
        "from functools import reduce\n",
        "\n",
        "numbers = [1, 2, 3, 4, 5]\n",
        "total = reduce(lambda x, y: x + y, numbers)\n",
        "print(total)\n",
        "\n",
        "# Example 2: Product of all elements in a list\n",
        "numbers = [1, 2, 3, 4, 5]\n",
        "total = reduce(lambda x, y: x * y, numbers)\n",
        "print(total)"
      ]
    },
    {
      "cell_type": "markdown",
      "metadata": {
        "id": "fCcbi5MblL6D"
      },
      "source": [
        "<p style=\"font-family: Arial; font-size:1.4em; background-color: yellow; color:black;\"> Problem 9.1  reduce():  average</p>"
      ]
    },
    {
      "cell_type": "markdown",
      "metadata": {
        "id": "SQTuJ9kflL6D"
      },
      "source": [
        "#### Write a function called getAVG(numbers) that takes a list of integer values and computes the average of the list.\n",
        "#### Use the reduce() function and create your lambda function to compute the average\n",
        "```\n",
        "numbers = [1, 2, 3, 4, 5]\n",
        "# Your function should return 3 because (1+2+3+4+5)/5 = 3\n",
        "\n",
        "def getAVG(numbers):\n",
        "    #################################\n",
        "    # Write your code here #\n",
        "    #################################\n",
        "    return average\n"
      ]
    },
    {
      "cell_type": "code",
      "execution_count": null,
      "metadata": {
        "colab": {
          "base_uri": "https://localhost:8080/"
        },
        "id": "G6qWKwh0lL6D",
        "outputId": "348dcbb8-eb75-4c3d-9762-ca0a55c636e2"
      },
      "outputs": [
        {
          "output_type": "stream",
          "name": "stdout",
          "text": [
            "3.0\n"
          ]
        }
      ],
      "source": [
        "\n",
        "from functools import reduce\n",
        "\n",
        "def getAVG(numbers):\n",
        "    average = reduce(lambda x, y: x + y, numbers) / len(numbers)\n",
        "    return average\n",
        "\n",
        "numbers = [1, 2, 3, 4, 5]\n",
        "average = getAVG(numbers)\n",
        "print(average)\n",
        "# Return value should be 3\n",
        "\n"
      ]
    },
    {
      "cell_type": "markdown",
      "metadata": {
        "id": "TaWuVN0DlL6D"
      },
      "source": [
        "<p style=\"font-family: Arial; font-size:1.4em; background-color: yellow; color:black;\"> Problem 9.2  reduce()</p>"
      ]
    },
    {
      "cell_type": "markdown",
      "metadata": {
        "id": "Dv90OFAmlL6D"
      },
      "source": [
        "#### Write a function called getMaxSum(numbers) that takes a list of lists and computes the sum of the maximum elements from each sublist in numbers.\"\n",
        "#### Requirement\n",
        "#### Use map() and reduce( ) function and create your lambda function to compute the max element summation\n",
        "```\n",
        "numbers = [[1, 2, 3], [4, 5, 6], [7, 8, 9]]\n",
        "# Your function should return 21 because 1+4+7 = 21\n",
        "\n",
        "def getMaxSum(numbers):\n",
        "    #################################\n",
        "    # Write your code here #\n",
        "    #################################\n",
        "    return new_list\n",
        "```\n",
        "\n",
        "#### Hint: Use the map() and reduce() functions\n",
        "```\n",
        "maxlist = list(map(lambda x:max(x), numbers))\n",
        "maxsum = reduce(lambda x,y:x+y, maxlist)\n",
        "print(maxsum)\n",
        "```"
      ]
    },
    {
      "cell_type": "code",
      "execution_count": 150,
      "metadata": {
        "colab": {
          "base_uri": "https://localhost:8080/"
        },
        "id": "_WrGc540lL6D",
        "outputId": "1382d1a2-f804-409f-e0ae-d1d8873b4fb0"
      },
      "outputs": [
        {
          "output_type": "stream",
          "name": "stdout",
          "text": [
            "18\n"
          ]
        }
      ],
      "source": [
        "####### Complete the code\n",
        "def getMaxSum(numbers):\n",
        "    maxlist = list(map(lambda x:max(x), numbers))\n",
        "    maxsum = reduce(lambda x,y:x+y, maxlist)\n",
        "    return maxsum\n",
        "\n",
        "\n",
        "numbers = [[1, 2, 3], [4, 5, 6], [7, 8, 9]]\n",
        "maxsum = getMaxSum(numbers)\n",
        "print(maxsum)\n",
        "# Return value should be 18\n"
      ]
    },
    {
      "cell_type": "markdown",
      "metadata": {
        "id": "JNu5rX6YlL6D"
      },
      "source": [
        "***\n",
        "\n",
        "## <p style=\"background-color: grey; color: white \"> ◼️  List </p>\n",
        "# <p style=\"font-family: Arial; font-size:1.4em;color:red;\"> 10. Programming Exercises </p>\n"
      ]
    },
    {
      "cell_type": "markdown",
      "metadata": {
        "id": "ddvO7Y_BlL6D"
      },
      "source": [
        "<p style=\"font-family: Arial; font-size:1.4em; background-color: yellow; color:black;\"> Problem 10.1</p>\n",
        "\n",
        "#### 1. Circular rotation of elements (both left and right)\n",
        "#### For example,\n",
        "```\n",
        "Input:\n",
        "numbers = [1, 2, 3, 4, 5]\n",
        "k = 3\n",
        "\n",
        "Output:\n",
        "[4, 5, 1, 2, 3]\n",
        "\n",
        "k = -4\n",
        "Output:\n",
        "[2, 3, 4, 5, 1]\n",
        "\n",
        "def circular_rotation(numbers, k):\n",
        "    #################################\n",
        "    # Write your code here #\n",
        "    #################################\n",
        "    return new_list\n",
        "```"
      ]
    },
    {
      "cell_type": "code",
      "execution_count": 151,
      "metadata": {
        "colab": {
          "base_uri": "https://localhost:8080/"
        },
        "id": "VKJ8ZwEBlL6D",
        "outputId": "06f452f5-3a29-487e-b4e5-3a29fd9b04fa"
      },
      "outputs": [
        {
          "output_type": "stream",
          "name": "stdout",
          "text": [
            "[4, 5, 1, 2, 3]\n"
          ]
        }
      ],
      "source": [
        "def circular_rotation(numbers, k):\n",
        "    new_list = numbers[k:] + numbers[:k]\n",
        "    return new_list\n",
        "\n",
        "numbers = [1, 2, 3, 4, 5]\n",
        "k = 3\n",
        "new_list = circular_rotation(numbers, k)\n",
        "print(new_list)\n",
        "\n"
      ]
    },
    {
      "cell_type": "markdown",
      "metadata": {
        "id": "IZgWcmkdlL6D"
      },
      "source": [
        "<p style=\"font-family: Arial; font-size:1.4em; background-color: yellow; color:black;\"> Problem 10.2</p>\n",
        "\n",
        "#### 2. Finding the continuous longest increasing subsequence\n",
        "#### Example 1,\n",
        "```\n",
        "Input:\n",
        "numbers = [10, 9, 2, 5, 3, 7, 101, 18]\n",
        "Output:\n",
        "[3, 7, 101]\n",
        "\n",
        "```\n",
        "#### Example 2,\n",
        "```\n",
        "Input:\n",
        "numbers = [0, 1, 0, 3, 2, 3]\n",
        "Output:\n",
        "[0, 3]  Because [0,3] and [2,3] are the same length. Choose the first occurence.\n",
        "\n",
        "def find_longest_increasing_subsequence(numbers):\n",
        "    #################################\n",
        "    # Write your code here #\n",
        "    #################################\n",
        "    return new_list\n",
        "```"
      ]
    },
    {
      "cell_type": "code",
      "execution_count": 6,
      "metadata": {
        "colab": {
          "base_uri": "https://localhost:8080/"
        },
        "id": "7vHjjNTglL6E",
        "outputId": "881c92dc-7057-44a5-f0fa-62cd67369ea4"
      },
      "outputs": [
        {
          "output_type": "stream",
          "name": "stdout",
          "text": [
            "[10]\n"
          ]
        }
      ],
      "source": [
        "def find_longest_increasing_subsequence(numbers):\n",
        "    new_list = []\n",
        "    for i in range(len(numbers)):\n",
        "      for j in range(i, len(numbers)):\n",
        "        if all(numbers[k] <= numbers[k+1] for k in range(i,j)):\n",
        "          if len(new_list) < j - i + 1:\n",
        "            new_list = numbers[i:j+1]\n",
        "        return new_list\n",
        "\n",
        "numbers = [10, 9, 2, 5, 3, 7, 101, 18]\n",
        "new_list = find_longest_increasing_subsequence(numbers)\n",
        "print(new_list)"
      ]
    },
    {
      "cell_type": "markdown",
      "metadata": {
        "id": "Nad4UKLplL6E"
      },
      "source": [
        "<p style=\"font-family: Arial; font-size:1.4em; background-color: yellow; color:black;\"> Problem 10.3</p>\n",
        "\n",
        "#### 3. Merging two sorted lists in-place without using extra space\n",
        "#### Example 1,\n",
        "```\n",
        "Input:\n",
        "    numbers1 = [1, 3, 5, 7, 9]\n",
        "    numbers2 = [2, 4, 6, 8, 10]\n",
        "Output:\n",
        "    new_list = [1, 2, 3, 4, 5, 6, 7, 8, 9, 10]\n",
        "\n",
        "Input:\n",
        "    numbers1 = [1,2,3,4,5]\n",
        "    numbers2 = [6,7,8,9,10]\n",
        "Output:\n",
        "    new_list = [1,2,3,4,5,6,7,8,9,10]\n",
        "\n",
        "def merge_sorted_lists(numbers1, numbers2):\n",
        "    #################################\n",
        "    # Write your code here #\n",
        "    #################################\n",
        "    return new_list\n",
        "\n",
        "```"
      ]
    },
    {
      "cell_type": "code",
      "execution_count": 2,
      "metadata": {
        "id": "Hz9S0vV7lL6E",
        "colab": {
          "base_uri": "https://localhost:8080/"
        },
        "outputId": "8f96b0b2-83a9-4c03-fcab-ecc283a0c75d"
      },
      "outputs": [
        {
          "output_type": "stream",
          "name": "stdout",
          "text": [
            "[1, 2, 3, 4, 5, 6, 7, 8, 9, 10]\n"
          ]
        }
      ],
      "source": [
        "\n",
        "def merge_sorted_lists(numbers1, numbers2):\n",
        "    new_list = numbers1 + numbers2\n",
        "    new_list.sort()\n",
        "    return new_list\n",
        "\n",
        "numbers = [1, 3, 5, 7, 9]\n",
        "numbers2 = [2, 4, 6, 8, 10]\n",
        "new_list = merge_sorted_lists(numbers, numbers2)\n",
        "print(new_list)\n"
      ]
    },
    {
      "cell_type": "markdown",
      "metadata": {
        "id": "vR9WwBeclL6E"
      },
      "source": [
        "<p style=\"font-family: Arial; font-size:1.4em; background-color: yellow; color:black;\"> Problem 10.4</p>\n",
        "\n",
        "#### 4. map() and zip(): Make the function that returns the list of list of years, list of months, and list of days\n",
        "#### Example 1,\n",
        "```\n",
        "Input:\n",
        "    dates = ['2020-12-01', '2021-03-31', '2022-09-13', '2023-04-03']\n",
        "Output:\n",
        "    new_dates_list = [ [2020, 2021, 2022, 2023], [3, 4, 9, 12], [1, 3, 13, 31] ]    # The sublist must be sorted\n",
        "    ## Hint: Use the map() and zip() functions\n",
        "    ## Requirement: The sublist must be sorted\n",
        "```\n",
        "\n",
        "\n"
      ]
    },
    {
      "cell_type": "code",
      "execution_count": 8,
      "metadata": {
        "colab": {
          "base_uri": "https://localhost:8080/"
        },
        "id": "UEZ3axWrlL6E",
        "outputId": "59966d5c-a425-48ed-fa52-d874bf02514b"
      },
      "outputs": [
        {
          "output_type": "stream",
          "name": "stdout",
          "text": [
            "[[1, 12, 2020], [3, 31, 2021], [9, 13, 2022], [3, 4, 2023]]\n"
          ]
        }
      ],
      "source": [
        "\n",
        "def split_dates(dates):\n",
        "    new_list = list(map(lambda x: sorted(list(map(int, x.split('-')))), dates))\n",
        "\n",
        "    return new_list\n",
        "\n",
        "dates = ['2020-12-01', '2021-03-31', '2022-09-13', '2023-04-03']\n",
        "new_dates_list = split_dates(dates)\n",
        "print(new_dates_list)\n",
        "# Return value should be [[2020, 2021, 2022, 2023], [3, 4, 9, 12], [1, 3, 13, 31]]\n",
        "# Notice that the sublist is the sorted list, not the tuple"
      ]
    },
    {
      "cell_type": "markdown",
      "metadata": {
        "id": "WXrEDTH1lL6E"
      },
      "source": [
        "<p style=\"font-family: Arial; font-size:1.5em; background-color: yellow; color:black;\"> Problem 10.5</p>\n",
        "\n",
        "#### 5. map() and sorted(): Make the function that returns the list of list that contains the ID, Name, and Phone Number.\n",
        "#### The sublist has the unordered list of ID, Name, and Phone Number.\n",
        "### For example,\n",
        "```\n",
        "Input:\n",
        "    students_list = [[9000000001, \"Jane Doe\", \"555-555-5678\"], [\"Macy Nan\", 9000000002, \"966-555-5678\"], [\"888-555-1234\", 9000000003, \"Cynthia Purdue\"]]\n",
        "Output:\n",
        "    students_by_field = [ [9000000001, 9000000002, 9000000003], [\"Cynthia Perdue\", \"Jane Doe\", \"Macy Nan\"], [\"555-555-1234\", \"555-555-5678\", \"966-555-5678\"] ]\n",
        "    ## Hint: Use the map() and zip() functions\n",
        "    ## Requirement: The sublist must be sorted\n",
        "```\n",
        "\n"
      ]
    },
    {
      "cell_type": "code",
      "execution_count": 41,
      "metadata": {
        "colab": {
          "base_uri": "https://localhost:8080/"
        },
        "id": "lJLz93iBlL6E",
        "outputId": "6e0fd421-da35-4bde-fc26-4cc16e218845"
      },
      "outputs": [
        {
          "output_type": "stream",
          "name": "stdout",
          "text": [
            "[[9000000001, 'Macy Nan', '888-555-1234'], ['Jane Doe', 9000000002, 9000000003], ['5555555678', '9665555678', '']]\n"
          ]
        }
      ],
      "source": [
        "import re\n",
        "def split_students(students_list):\n",
        "    zip_list = list(zip(*students_list))\n",
        "    id = list(sorted(zip_list[0]))\n",
        "    name = list(sorted(zip_list[1]))\n",
        "    phone = list(sorted(zip_list[2]))\n",
        "\n",
        "\n",
        "    new_list = [id, name, phone]\n",
        "\n",
        "    return new_list\n",
        "\n",
        "students_list = [[9000000001, \"Jane Doe\", \"555-555-5678\"], [\"Macy Nan\", 9000000002, \"966-555-5678\"], [\"888-555-1234\", 9000000003, \"Cynthia Perdue\"]]\n",
        "students_by_field = split_students(students_list)\n",
        "print(students_by_field)\n"
      ]
    }
  ],
  "metadata": {
    "kernelspec": {
      "display_name": "base",
      "language": "python",
      "name": "python3"
    },
    "language_info": {
      "codemirror_mode": {
        "name": "ipython",
        "version": 3
      },
      "file_extension": ".py",
      "mimetype": "text/x-python",
      "name": "python",
      "nbconvert_exporter": "python",
      "pygments_lexer": "ipython3",
      "version": "3.9.17"
    },
    "colab": {
      "provenance": []
    }
  },
  "nbformat": 4,
  "nbformat_minor": 0
}