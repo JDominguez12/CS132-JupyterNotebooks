{
  "cells": [
    {
      "cell_type": "markdown",
      "metadata": {
        "id": "KP1xQxFZhhbv"
      },
      "source": [
        "<style>\n",
        "\th1 {\n",
        "\t--\tbackground-color: grey;\n",
        "\t\tcolor: yellow\n",
        "\t\tborder: 3px solid grey\n",
        "\n",
        "\t}\n",
        "\tp {\n",
        "\t\tbackground-color: grey;\n",
        "\t\tcolor: white\n",
        "\t\tborder: 3px solid grey\n",
        "\n",
        "\t}\n",
        "</style>\n",
        "<h1> Chapter 5 Functions</h1>"
      ]
    },
    {
      "cell_type": "markdown",
      "metadata": {
        "id": "efQQDct2hhbw"
      },
      "source": [
        "***\n",
        "\n",
        "## <p style=\"background-color: grey; color: white \"> ◼️  Storing Functions in Modules </p>\n",
        "# <p style=\"font-family: Arial; font-size:1.4em;color:red;\"> 7. Storing Functions in Modules </p>\n"
      ]
    },
    {
      "cell_type": "markdown",
      "metadata": {
        "id": "KWPbfI6Qhhbw"
      },
      "source": [
        "<img src=\"https://github.com/AVC-CS/PythonCH05/blob/main/images/image71.png?raw=1\" alt=\"Storing Function in modules\" width=\"50%\">\n"
      ]
    },
    {
      "cell_type": "markdown",
      "metadata": {
        "id": "xJd57NZ4hhbw"
      },
      "source": [
        "***"
      ]
    },
    {
      "cell_type": "markdown",
      "metadata": {
        "id": "UZE69k5ahhbw"
      },
      "source": [
        "#### <p style=\"font-family: Arial; font-size:1.4em; background-color: yellow; color:black;\"> Problem #7.0 </p>\n",
        "\n",
        "#### Run all the cells and figure out the results of the code"
      ]
    },
    {
      "cell_type": "markdown",
      "metadata": {
        "id": "0LMoN0tEhhbw"
      },
      "source": [
        "### Create a new file as mymodule.py\n",
        "#### And define your functions in the file\n",
        "```\n",
        "def func1():\n",
        "    print(\"This is func1\")\n",
        "```\n",
        "\n",
        "### Now, let's use the function in the module\n",
        "```\n",
        "from mymodule import func1\n",
        "func1()\n",
        "```"
      ]
    },
    {
      "cell_type": "code",
      "source": [
        "%%writefile mymodule.py\n",
        "def func1():\n",
        "    print(\"This is func1\")\n",
        "def func2():\n",
        "    print(\"This is func2\")\n",
        "def func3():\n",
        "    print(\"THis is func3\")\n",
        ""
      ],
      "metadata": {
        "colab": {
          "base_uri": "https://localhost:8080/"
        },
        "id": "rkF1g9dbjVAQ",
        "outputId": "e97c4d77-8a9e-486b-c061-b5cf7510151f"
      },
      "execution_count": 2,
      "outputs": [
        {
          "output_type": "stream",
          "name": "stdout",
          "text": [
            "Writing mymodule.py\n"
          ]
        }
      ]
    },
    {
      "cell_type": "code",
      "execution_count": 3,
      "metadata": {
        "id": "w9qOnRdNhhbw",
        "outputId": "21e37edf-2c81-4d7c-f07f-a8abf521f7f4",
        "colab": {
          "base_uri": "https://localhost:8080/"
        }
      },
      "outputs": [
        {
          "output_type": "stream",
          "name": "stdout",
          "text": [
            "This is func1\n",
            "This is func2\n",
            "THis is func3\n"
          ]
        }
      ],
      "source": [
        "from mymodule import func1, func2, func3\n",
        "func1()\n",
        "func2()\n",
        "func3()"
      ]
    },
    {
      "cell_type": "markdown",
      "metadata": {
        "id": "ZVhi5q-7hhbx"
      },
      "source": [
        "***"
      ]
    },
    {
      "cell_type": "markdown",
      "metadata": {
        "id": "dIjQnShUhhbx"
      },
      "source": [
        "### <p style=\"font-family: Arial; font-size:1.4em; background-color: yellow; color:black;\"> Problem #7.1 </p>\n",
        "\n",
        "###Create a new file as primemodule.py that includes the following functions:\n",
        "- is_prime(n): returns True if n is a prime number, False otherwise\n",
        "- print_primes(n): prints all prime numbers less than n\n",
        "- get_primes(n): returns a list of all prime numbers less than n\n",
        "\n",
        "\n",
        "### Now, let's use the functions in the module, for example, in the main function\n",
        "```\n",
        "from primemodule import is_prime, print_primes, get_primes\n",
        "is_prime(10)\n",
        "print_primes(10)\n",
        "get_primes(10)\n",
        "```"
      ]
    },
    {
      "cell_type": "code",
      "execution_count": 52,
      "metadata": {
        "id": "wBJPsB1Ahhbx",
        "colab": {
          "base_uri": "https://localhost:8080/"
        },
        "outputId": "e7a5df43-9f20-42ce-996e-5f9190ffa90a"
      },
      "outputs": [
        {
          "output_type": "stream",
          "name": "stdout",
          "text": [
            "Overwriting primemodule.py\n"
          ]
        }
      ],
      "source": [
        "%%writefile primemodule.py\n",
        "def is_prime(n):\n",
        "    if n <= 1:\n",
        "        return False\n",
        "    for i in range(2, n):\n",
        "        if n % i == 0:\n",
        "            return False\n",
        "    return True\n",
        "\n",
        "def print_primes(n):\n",
        "    for i in range(2, n):\n",
        "        if is_prime(i):\n",
        "            print(i)\n",
        "def get_primes(n):\n",
        "    primes = []\n",
        "    for i in range(2, n):\n",
        "      if is_prime(i):\n",
        "        primes.append(i)\n",
        "    return primes"
      ]
    },
    {
      "cell_type": "code",
      "source": [
        "from primemodule import is_prime, print_primes, get_primes\n",
        "is_prime(10)\n",
        "print_primes(10)\n",
        "get_primes(10)"
      ],
      "metadata": {
        "colab": {
          "base_uri": "https://localhost:8080/"
        },
        "id": "oUinAMRqlFIz",
        "outputId": "a908947a-1957-4650-8177-f6e62f6d9c8a"
      },
      "execution_count": 53,
      "outputs": [
        {
          "output_type": "execute_result",
          "data": {
            "text/plain": [
              "[]"
            ]
          },
          "metadata": {},
          "execution_count": 53
        }
      ]
    },
    {
      "cell_type": "markdown",
      "metadata": {
        "id": "sxKOAgYLhhbx"
      },
      "source": [
        "### <p style=\"font-family: Arial; font-size:1.4em; background-color: yellow; color:black;\"> Problem #7.2 </p>\n",
        "\n",
        "#### Make a function gen_lambda(number, criteria) that returns a lambda function that takes a list of numbers based on the parameter number and criteria.\n",
        "#### The criteria is one of the following:\n",
        "- \"even\": the lambda function returns the even numbers in the list\n",
        "- \"odd\": the lambda function returns the odd numbers in the list\n",
        "- \"positive\": the lambda function returns the positive numbers in the list\n",
        "- \"negative\": the lambda function returns the negative numbers in the list\n",
        "- \"zero\": the lambda function returns the number of zero numbers in the list\n",
        "\n",
        "### Now, let's use the functions in the module, for example, in the main function\n",
        "```\n",
        "even_lambda = gen_lambda(10, \"even\")\n",
        "even_lambda([1, 2, 3, 4, 5, 6, 7, 8, 9, 10])\n",
        "- it will return [2, 4, 6, 8, 10]\n",
        "\n",
        "positive_lambda = gen_lambda(10, \"positive\")\n",
        "positive_lambda([1, 2, 3, 4, 5, 6, 7, 8, 9, 10])\n",
        "- it will return [1, 2, 3, 4, 5, 6, 7, 8, 9, 10]\n",
        "\n",
        "negative_lambda = gen_lambda(10, \"negative\")\n",
        "negative_lambda([1, 2, 3, 4, 5, 6, 7, 8, 9, 10])\n",
        "- it will return []\n",
        "\n",
        "zero_lambda = gen_lambda(10, \"zero\")\n",
        "zero_lambda([1, 2, 3, 4, 0, 0, 7, 8, 9, 0])\n",
        "- it will return 3\n",
        "```"
      ]
    },
    {
      "cell_type": "markdown",
      "metadata": {
        "id": "H5hjqkqzhhbx"
      },
      "source": [
        "### Complete the code to run the main function"
      ]
    },
    {
      "cell_type": "code",
      "execution_count": 56,
      "metadata": {
        "id": "Mxc3Pavmhhbx",
        "colab": {
          "base_uri": "https://localhost:8080/"
        },
        "outputId": "835d803d-002a-4650-eb75-f4762929990a"
      },
      "outputs": [
        {
          "output_type": "execute_result",
          "data": {
            "text/plain": [
              "[0, 0, 0]"
            ]
          },
          "metadata": {},
          "execution_count": 56
        }
      ],
      "source": [
        "# complete the code to run the main function\n",
        "def gen_lambda(number, criteria):\n",
        "    if criteria == \"even\":\n",
        "        return lambda lst: [x for x in lst if x % 2 == 0]\n",
        "    elif criteria == \"positive\":\n",
        "        return lambda lst: [x for x in lst if x > 0]\n",
        "    elif criteria == \"negative\":\n",
        "        return lambda lst: [x for x in lst if x < 0]\n",
        "    elif criteria == \"zero\":\n",
        "        return lambda lst: [x for x in lst if x == 0]\n",
        "    else:\n",
        "        return lambda lst: []\n",
        "\n",
        "\n",
        "returned_lambda = gen_lambda(10, \"even\")\n",
        "returned_lambda([1, 2, 3, 4, 5, 6, 7, 8, 9, 10])\n",
        "# it will return [2, 4, 6, 8, 10]\n",
        "\n",
        "positive_lambda = gen_lambda(10, \"positive\")\n",
        "positive_lambda([1, 2, 3, 4, 5, 6, 7, 8, 9, 10])\n",
        "# it will return [1, 2, 3, 4, 5, 6, 7, 8, 9, 10]\n",
        "\n",
        "negative_lambda = gen_lambda(10, \"negative\")\n",
        "negative_lambda([1, 2, -3, 4, -5, -6, 7, 8, 9, 10])\n",
        "# it will return [-3, -5, -6]\n",
        "\n",
        "zero_lambda = gen_lambda(10, \"zero\")\n",
        "zero_lambda([1, 2, 3, 4, 0, 0, 7, 8, 9, 0])\n",
        "# it will return 3"
      ]
    },
    {
      "cell_type": "markdown",
      "metadata": {
        "id": "gG9cw6i4hhby"
      },
      "source": [
        "***"
      ]
    },
    {
      "cell_type": "markdown",
      "metadata": {
        "id": "W_62LLA7hhby"
      },
      "source": [
        "#### Don't forget to <font color='red'> **\"commit\"** </font> your work or <font color='red'> **\"save\"** </font> in Google Colab before moving to the next section."
      ]
    },
    {
      "cell_type": "markdown",
      "metadata": {
        "id": "fy2ppQg7hhby"
      },
      "source": [
        "***\n",
        "\n",
        "## <p style=\"background-color: grey; color: white \"> ◼️  Algorithms </p>\n",
        "# <p style=\"font-family: Arial; font-size:1.4em;color:red;\"> 8. Algorithms Development with Functions </p>\n"
      ]
    },
    {
      "cell_type": "markdown",
      "metadata": {
        "id": "XUiP7d9Bhhby"
      },
      "source": [
        "### Complete the following problems with funtions\n",
        "#### In this section, you can use the additional functions if you need."
      ]
    },
    {
      "cell_type": "markdown",
      "metadata": {
        "id": "sTzjDpV2hhby"
      },
      "source": [
        "***\n",
        "#### <p style=\"font-family: Arial; font-size:1.4em; background-color: yellow; color:black;\"> Problem #8.1 </p>\n",
        "\n",
        "<style>\n",
        "\tp {\n",
        "\t\tbackground-color: black;\n",
        "\t\tcolor: white;\n",
        "\t\tborder: 1px solid grey;\n",
        "\t\tfont-size: 30px;\n",
        "\t}\n",
        "</style>\n",
        "<p> Make a function that receives two lists and figure out which list has the greater median value. Return the list with the greater median value. </p>\n",
        "- The definition of median is the middle value in an ordered list of numbers. If the list has an even number of elements, the median is the average of the two middle numbers.\n",
        "- Example n1 = [1, 3, 2, 4, 5, 0] n2 = [1,2,3] <br>\n",
        "- The median of n1 is 2.5 and the median of n2 is 2. So the function should return n1 and 2.5 together.\n"
      ]
    },
    {
      "cell_type": "markdown",
      "metadata": {
        "id": "zC1X8y4Ohhby"
      },
      "source": [
        "```\n",
        "def compare_median(lst1, lst2):\n",
        "    # Write your code here\n",
        "    return lst1, median1\n",
        "```\n",
        "\n",
        "#### Test the function\n",
        "```\n",
        "compare_median([1, 3, 2, 4, 5, 0], [1,2,3])\n",
        "```\n"
      ]
    },
    {
      "cell_type": "code",
      "execution_count": null,
      "metadata": {
        "id": "BVNtrQoDhhby"
      },
      "outputs": [],
      "source": [
        "# complete the code"
      ]
    },
    {
      "cell_type": "markdown",
      "metadata": {
        "id": "JwbPOnzqhhby"
      },
      "source": [
        "***\n",
        "#### <p style=\"font-family: Arial; font-size:1.4em; background-color: yellow; color:black;\"> Problem #8.2 </p>\n",
        "<style>\n",
        "\tp {\n",
        "\t\tbackground-color: black;\n",
        "\t\tcolor: white;\n",
        "\t\tborder: 1px solid grey;\n",
        "\t\tfont-size: 30px;\n",
        "\t}\n",
        "</style>\n",
        "<p> Make a function that receives a list of numbers and returns the second largest number in the list. </p>\n",
        "\n",
        "```\n",
        "Example:\n",
        " Input: [5, 2, 8, 1, 9, 3]\n",
        " Output: 8\n",
        "\n",
        " Note: If the list has less than two unique elements, the function should return None.\n",
        " ```\n",
        "\n",
        "\n",
        "\n",
        "```\n",
        "def second_largest(lst):\n",
        "    # Write your code here\n",
        "    return second_largest\n",
        "```\n",
        "\n",
        "##### Test the function\n",
        "```\n",
        "\n"
      ]
    },
    {
      "cell_type": "code",
      "execution_count": null,
      "metadata": {
        "id": "tHlCTOmIhhby"
      },
      "outputs": [],
      "source": [
        "# complete the code"
      ]
    },
    {
      "cell_type": "markdown",
      "metadata": {
        "id": "ypNS5aMVhhby"
      },
      "source": [
        "***\n",
        "#### <p style=\"font-family: Arial; font-size:1.4em; background-color: yellow; color:black;\"> Problem #8.3 </p>\n",
        "<style>\n",
        "\tp {\n",
        "\t\tbackground-color: black;\n",
        "\t\tcolor: white;\n",
        "\t\tborder: 1px solid grey;\n",
        "\t\tfont-size: 30px;\n",
        "\t}\n",
        "</style>\n",
        "<p> Make a function that receives a list of tuples which contains two integers values and return a list of tuples where the second value of each tuple is greater than the first value. </p>\n",
        "\n",
        "```\n",
        "For example:\n",
        "numbers = [(4, 1), (3, 2), (5, 0), (2, 3), (1, 4), (6, -1), (0, 5), (7, 5), (8, 4), (9, 3), (10, 2), (11, 1), (12, 0), (13, -1), (14, -2), (15, -3)]\n",
        "Output = [(2,3), (1,4), (0,5)]\n",
        "\n",
        "##### Test the function\n",
        "numbers = [(4, 1), (3, 2), (5, 0), (2, 3), (1, 4)]\n",
        "filter_tuples(numbers)\n",
        "\n",
        "```\n",
        "\n"
      ]
    },
    {
      "cell_type": "code",
      "execution_count": null,
      "metadata": {
        "id": "BLVR3fixhhby"
      },
      "outputs": [],
      "source": [
        "# complete the code"
      ]
    },
    {
      "cell_type": "markdown",
      "metadata": {
        "id": "m8IBeU89hhby"
      },
      "source": [
        "***\n",
        "#### <p style=\"font-family: Arial; font-size:1.4em; background-color: yellow; color:black;\"> Problem #8.4 </p>\n",
        "<style>\n",
        "\tp {\n",
        "\t\tbackground-color: black;\n",
        "\t\tcolor: white;\n",
        "\t\tborder: 1px solid grey;\n",
        "\t\tfont-size: 30px;\n",
        "\t}\n",
        "</style>\n",
        "<p> Make a function that receives a list of tuples which contains two integers values and sort the list based on the gap of two values in each tuple. The tuple with the smallest gap should be the first one in the sorted list. If the gap is the same, then sort based on the first value in the tuple. </p>\n",
        "\n",
        "\n",
        "```\n",
        "For example:\n",
        "numbers = [(4, 1), (3, 2), (5, 0), (2, 3), (1, 4)]\n",
        "Output = [(3, 2), (2,3 ), (1,4), (4,1), (5,0)]\n",
        "\n",
        "\n",
        "##### Test the function\n",
        "sort_tuples(numbers)\n",
        "- Expected output: [(3, 2), (2,3 ), (1,4), (4,1), (5,0)]\n",
        "```\n",
        "\n"
      ]
    },
    {
      "cell_type": "code",
      "execution_count": null,
      "metadata": {
        "id": "wjszIkRyhhby"
      },
      "outputs": [],
      "source": [
        "# complete the code\n"
      ]
    },
    {
      "cell_type": "code",
      "execution_count": null,
      "metadata": {
        "id": "X9zMAyY7hhby"
      },
      "outputs": [],
      "source": [
        "# complete the code"
      ]
    },
    {
      "cell_type": "markdown",
      "metadata": {
        "id": "B6-OlMv9hhby"
      },
      "source": [
        "***\n",
        "#### <p style=\"font-family: Arial; font-size:1.4em; background-color: yellow; color:black;\"> Problem #8.5 </p>\n",
        "<style>\n",
        "\tp {\n",
        "\t\tcolor: white;\n",
        "\t\tborder: 1px solid grey;\n",
        "\t\tfont-size: 28;\n",
        "\t}\n",
        "</style>\n",
        "<p> Make a function that receives a string value and returns the encoded string by shifting each letter by \"seed\" value. </p>\n",
        "\n",
        "- If the letter is not a letter, then keep it as it is.\n",
        "- If the lettter + seed is greater than 'z', then wrap around to the beginning of the alphabet.\n",
        "\n",
        "```\n",
        "- For example, if the seed is 2, then 'a' will be 'c', 'b' will be 'd', ..., 'z' will be 'b'.\n",
        "\n",
        "##### Test the function\n",
        "```\n",
        "encode_string(\"hello\", 2) <br>\n",
        "The expected output is \"jgnnq\"\n",
        "```\n",
        "\n"
      ]
    },
    {
      "cell_type": "code",
      "execution_count": null,
      "metadata": {
        "id": "i3c13uFxhhbz"
      },
      "outputs": [],
      "source": [
        "# complete the code\n"
      ]
    },
    {
      "cell_type": "markdown",
      "metadata": {
        "id": "KX08LGN-hhbz"
      },
      "source": [
        "***"
      ]
    },
    {
      "cell_type": "markdown",
      "metadata": {
        "id": "c2k3kr7Ahhbz"
      },
      "source": [
        "***\n",
        "#### <p style=\"font-family: Arial; font-size:1.4em; background-color: yellow; color:black;\"> Problem #8.6 </p>\n",
        "<style>\n",
        " \tp {\n",
        " \t\tcolor: white;\n",
        " \t\tborder: 1px solid grey;\n",
        " \t\tfont-size: 28;\n",
        " \t}\n",
        "</style>\n",
        "<p> Make a function that takes a list of lists as input and performs the following operations: </p>\n",
        "\n",
        "1. Calculate the sum of each inner list\n",
        "2. Find the maximum sum among all inner lists\n",
        "3. Return a tuple containing:\n",
        "   a) The list of sums\n",
        "   b) The index of the inner list with the maximum sum\n",
        "   c) The maximum sum itself\n",
        "\n",
        "For example:\n",
        "```python\n",
        "input_list = [[1, 2, 3], [4, 5], [6, 7, 8, 9]]\n",
        "result = find_max_sum(input_list)\n",
        "print(result)\n",
        "Expected output: ([6, 9, 30], 2, 30)\n",
        "```\n",
        "\n",
        "##### Test the function\n",
        "```\n",
        "find_max_sum([[1, 2, 3], [4, 5], [6, 7, 8, 9]])\n",
        "The expected output is ([6, 9, 30], 2, 30)\n",
        "```\n",
        "\n"
      ]
    },
    {
      "cell_type": "code",
      "execution_count": null,
      "metadata": {
        "id": "RuTXLfBPhhbz"
      },
      "outputs": [],
      "source": [
        "# complete the code"
      ]
    },
    {
      "cell_type": "markdown",
      "metadata": {
        "id": "YKyXrg0zhhbz"
      },
      "source": [
        "***"
      ]
    },
    {
      "cell_type": "markdown",
      "metadata": {
        "id": "iM_kGFZHhhbz"
      },
      "source": [
        "<p style=\"font-family: Arial; font-size:1.4em; background-color: yellow; color:black;\"> Problem #8.7 </p>\n",
        "<style>\n",
        " \tp {\n",
        " \t\tcolor: white;\n",
        " \t\tborder: 1px solid grey;\n",
        " \t\tfont-size: 28;\n",
        " \t}\n",
        "</style>\n",
        "<p> Make a function that takes a list that contains a integer value and the size of the new sub list. The function returns a list of sub lists with the size of the new sub list. </p>\n",
        "\n",
        "- For example, if the input list is [1, 2, 3, 4, 5, 6, 7, 8, 9, 10] and the size of the new sub list is 3, the function returns [[1, 2, 3], [4, 5, 6], [7, 8, 9], [10]].\n",
        "- Another example, if the input list is [1, 2, 3, 4, 5, 6, 7, 8, 9, 10, 11] and the size of the new sub list is 6, the function returns [[1, 2, 3, 4, 5, 6], [7, 8, 9, 10, 11]].\n",
        "\n",
        "\n",
        "\n",
        "### Function call example,\n",
        "```\n",
        "sub_lists([1, 2, 3, 4, 5, 6, 7, 8, 9, 10], 3)\n",
        "```\n",
        "### Expected output:\n",
        "```\n",
        "[[1, 2, 3], [4, 5, 6], [7, 8, 9], [10]]\n",
        "```\n",
        "***\n",
        "\n",
        "\n"
      ]
    },
    {
      "cell_type": "code",
      "execution_count": null,
      "metadata": {
        "id": "An5EErp0hhbz"
      },
      "outputs": [],
      "source": [
        "# complete the code"
      ]
    },
    {
      "cell_type": "markdown",
      "metadata": {
        "id": "6oJAMciShhbz"
      },
      "source": [
        "***"
      ]
    },
    {
      "cell_type": "markdown",
      "metadata": {
        "id": "0FOE9asLhhbz"
      },
      "source": [
        "<p style=\"font-family: Arial; font-size:1.4em; background-color: yellow; color:black;\"> Problem #8.8 </p>\n",
        "<style>\n",
        " \tp {\n",
        " \t\tcolor: white;\n",
        " \t\tborder: 1px solid grey;\n",
        " \t\tfont-size: 28;\n",
        " \t}\n",
        "</style>\n",
        "<p> Make a function that takes a list of lists as input and performs the following operations: </p>\n",
        "\n",
        "- get the average of the length of the lists.\n",
        "- re-arrange the list based on the average\n",
        "- For example, if the input list is [[1, 2, 3], [4, 5], [6, 7, 8, 9]], the average of the length of the lists is 3.\n",
        "- The list will be rearranged to [[1, 2, 3], [4, 5, 6], [7, 8, 9]]\n",
        "- If the total number of elements is not divisible by the average, the last list will be shorter than the others.\n",
        "- For example, if the input list is [[1, 2, 3], [4, 5], [6, 7, 8, 9, 10]], the average of the length of the lists is 3.\n",
        "- The list will be rearranged to [[1, 2, 3], [4, 5, 6], [7, 8, 9], [10]].\n",
        "\n",
        "\n"
      ]
    },
    {
      "cell_type": "code",
      "execution_count": null,
      "metadata": {
        "id": "IlG9nwe_hhbz"
      },
      "outputs": [],
      "source": [
        "# complete the code"
      ]
    },
    {
      "cell_type": "markdown",
      "metadata": {
        "id": "IOfPoIcDhhbz"
      },
      "source": [
        "***"
      ]
    }
  ],
  "metadata": {
    "kernelspec": {
      "display_name": "Python 3.9.13 ('base')",
      "language": "python",
      "name": "python3"
    },
    "language_info": {
      "codemirror_mode": {
        "name": "ipython",
        "version": 3
      },
      "file_extension": ".py",
      "mimetype": "text/x-python",
      "name": "python",
      "nbconvert_exporter": "python",
      "pygments_lexer": "ipython3",
      "version": "3.9.17"
    },
    "orig_nbformat": 4,
    "vscode": {
      "interpreter": {
        "hash": "32cd87c0c55905266dc8232ebf1148f668af0d9324249c125246585210a29cd6"
      }
    },
    "colab": {
      "provenance": []
    }
  },
  "nbformat": 4,
  "nbformat_minor": 0
}